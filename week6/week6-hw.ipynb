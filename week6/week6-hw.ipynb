{
 "cells": [
  {
   "cell_type": "code",
   "execution_count": 8,
   "metadata": {},
   "outputs": [],
   "source": [
    "import requests\n",
    "\n",
    "url = \"https://github.com/alexeygrigorev/datasets/raw/refs/heads/master/jamb_exam_results.csv\"\n",
    "response = requests.get(url)\n",
    "\n",
    "# Guardar el archivo localmente\n",
    "with open(\"jamb_exam_results.csv\", \"wb\") as file:\n",
    "    file.write(response.content)"
   ]
  },
  {
   "cell_type": "code",
   "execution_count": 5,
   "metadata": {},
   "outputs": [
    {
     "name": "stdout",
     "output_type": "stream",
     "text": [
      "Requirement already satisfied: xgboost in c:\\users\\aorte\\appdata\\local\\programs\\python\\python311\\lib\\site-packages (2.1.2)\n",
      "Requirement already satisfied: numpy in c:\\users\\aorte\\appdata\\local\\programs\\python\\python311\\lib\\site-packages (from xgboost) (1.25.2)\n",
      "Requirement already satisfied: scipy in c:\\users\\aorte\\appdata\\local\\programs\\python\\python311\\lib\\site-packages (from xgboost) (1.12.0)\n"
     ]
    },
    {
     "name": "stderr",
     "output_type": "stream",
     "text": [
      "\n",
      "[notice] A new release of pip is available: 24.1 -> 24.3.1\n",
      "[notice] To update, run: python.exe -m pip install --upgrade pip\n"
     ]
    }
   ],
   "source": [
    "!python -m pip install xgboost"
   ]
  },
  {
   "cell_type": "code",
   "execution_count": 10,
   "metadata": {},
   "outputs": [
    {
     "name": "stdout",
     "output_type": "stream",
     "text": [
      "   jamb_score  study_hours_per_week  attendance_rate  teacher_quality  \\\n",
      "0         192                    22               78                4   \n",
      "1         207                    14               88                4   \n",
      "2         182                    29               87                2   \n",
      "3         210                    29               99                2   \n",
      "4         199                    12               98                3   \n",
      "\n",
      "   distance_to_school school_type school_location extra_tutorials  \\\n",
      "0                12.4      Public           Urban             Yes   \n",
      "1                 2.7      Public           Rural              No   \n",
      "2                 9.6      Public           Rural             Yes   \n",
      "3                 2.6      Public           Urban              No   \n",
      "4                 8.8      Public           Urban              No   \n",
      "\n",
      "  access_to_learning_materials parent_involvement it_knowledge  age  gender  \\\n",
      "0                          Yes               High       Medium   17    Male   \n",
      "1                          Yes               High         High   15    Male   \n",
      "2                          Yes               High       Medium   20  Female   \n",
      "3                          Yes             Medium         High   22  Female   \n",
      "4                          Yes             Medium       Medium   22  Female   \n",
      "\n",
      "  socioeconomic_status parent_education_level  assignments_completed  \n",
      "0                  Low               Tertiary                      2  \n",
      "1                 High                   None                      1  \n",
      "2                 High               Tertiary                      2  \n",
      "3               Medium               Tertiary                      1  \n",
      "4               Medium               Tertiary                      1  \n"
     ]
    }
   ],
   "source": [
    "import pandas as pd\n",
    "from sklearn.model_selection import train_test_split\n",
    "from sklearn.feature_extraction import DictVectorizer\n",
    "from sklearn.tree import DecisionTreeRegressor\n",
    "from sklearn.ensemble import RandomForestRegressor\n",
    "import xgboost as xgb\n",
    "from sklearn.metrics import mean_squared_error\n",
    "import numpy as np\n",
    "\n",
    "# Load data\n",
    "df = pd.read_csv(\"jamb_exam_results.csv\")\n",
    "\n",
    "# Preprocess columns\n",
    "df.columns = df.columns.str.lower().str.replace(' ', '_')\n",
    "\n",
    "# Remove student_id column\n",
    "df = df.drop(columns=['student_id'])\n",
    "\n",
    "print(df.head())\n",
    "\n",
    "\n"
   ]
  },
  {
   "cell_type": "code",
   "execution_count": 11,
   "metadata": {},
   "outputs": [],
   "source": [
    "# Fill missing values with zero\n",
    "df = df.fillna(0)\n",
    "\n",
    "# Split data\n",
    "df_full_train, df_test = train_test_split(df, test_size=0.2, random_state=1)\n",
    "df_train, df_val = train_test_split(df_full_train, test_size=0.25, random_state=1)  # 0.25 * 0.8 = 0.2\n",
    "\n",
    "y_train = df_train.jamb_score.values\n",
    "y_val = df_val.jamb_score.values\n",
    "y_test = df_test.jamb_score.values\n",
    "\n",
    "df_train = df_train.drop(columns=['jamb_score'])\n",
    "df_val = df_val.drop(columns=['jamb_score'])\n",
    "df_test = df_test.drop(columns=['jamb_score'])\n",
    "\n",
    "# Convert data to dictionary format\n",
    "train_dict = df_train.to_dict(orient='records')\n",
    "val_dict = df_val.to_dict(orient='records')\n",
    "\n",
    "# Vectorize the data\n",
    "dv = DictVectorizer(sparse=True)\n",
    "X_train = dv.fit_transform(train_dict)\n",
    "X_val = dv.transform(val_dict)"
   ]
  },
  {
   "cell_type": "code",
   "execution_count": null,
   "metadata": {},
   "outputs": [
    {
     "name": "stdout",
     "output_type": "stream",
     "text": [
      "Feature: study_hours_per_week\n"
     ]
    }
   ],
   "source": [
    "#Q1\n",
    "dt = DecisionTreeRegressor(max_depth=1)\n",
    "dt.fit(X_train, y_train)\n",
    "\n",
    "print(\"Feature:\", dv.feature_names_[dt.tree_.feature[0]])"
   ]
  },
  {
   "cell_type": "code",
   "execution_count": 13,
   "metadata": {},
   "outputs": [
    {
     "name": "stdout",
     "output_type": "stream",
     "text": [
      "RMSE: 41.82546234054084\n"
     ]
    }
   ],
   "source": [
    "#Q2\n",
    "rf = RandomForestRegressor(n_estimators=10, random_state=1, n_jobs=-1)\n",
    "rf.fit(X_train, y_train)\n",
    "\n",
    "y_pred = rf.predict(X_val)\n",
    "rmse = np.sqrt(mean_squared_error(y_val, y_pred))\n",
    "print(\"RMSE:\", rmse)"
   ]
  },
  {
   "cell_type": "code",
   "execution_count": 14,
   "metadata": {},
   "outputs": [
    {
     "name": "stdout",
     "output_type": "stream",
     "text": [
      "[(10, 41.82546234054084), (20, 41.19602596125019), (30, 40.856505465946164), (40, 40.66637198749109), (50, 40.678118442228865), (60, 40.6039010304292), (70, 40.53460449582126), (80, 40.403939657461), (90, 40.376522525281544), (100, 40.43028290774132), (110, 40.47245412796827), (120, 40.52150253517672), (130, 40.529568505653224), (140, 40.4652468105506), (150, 40.43557058443579), (160, 40.46153425052305), (170, 40.47871275067374), (180, 40.4824103492515), (190, 40.46830275530142), (200, 40.454002673715735)]\n"
     ]
    }
   ],
   "source": [
    "#Q3\n",
    "rmse_values = []\n",
    "\n",
    "for n in range(10, 201, 10):\n",
    "    rf = RandomForestRegressor(n_estimators=n, random_state=1, n_jobs=-1)\n",
    "    rf.fit(X_train, y_train)\n",
    "    \n",
    "    y_pred = rf.predict(X_val)\n",
    "    rmse = np.sqrt(mean_squared_error(y_val, y_pred))\n",
    "    rmse_values.append((n, rmse))\n",
    "\n",
    "print(rmse_values)"
   ]
  },
  {
   "cell_type": "code",
   "execution_count": 15,
   "metadata": {},
   "outputs": [
    {
     "name": "stdout",
     "output_type": "stream",
     "text": [
      "Best max_depth: 10\n"
     ]
    }
   ],
   "source": [
    "#Q4\n",
    "best_depth = None\n",
    "best_rmse = float('inf')\n",
    "\n",
    "for depth in [10, 15, 20, 25]:\n",
    "    for n in range(10, 201, 10):\n",
    "        rf = RandomForestRegressor(n_estimators=n, max_depth=depth, random_state=1, n_jobs=-1)\n",
    "        rf.fit(X_train, y_train)\n",
    "        \n",
    "        y_pred = rf.predict(X_val)\n",
    "        rmse = np.sqrt(mean_squared_error(y_val, y_pred))\n",
    "        \n",
    "        if rmse < best_rmse:\n",
    "            best_rmse = rmse\n",
    "            best_depth = depth\n",
    "\n",
    "print(\"Best max_depth:\", best_depth)"
   ]
  },
  {
   "cell_type": "code",
   "execution_count": 16,
   "metadata": {},
   "outputs": [
    {
     "name": "stdout",
     "output_type": "stream",
     "text": [
      "Most important feature: study_hours_per_week\n"
     ]
    }
   ],
   "source": [
    "#Q6\n",
    "rf = RandomForestRegressor(n_estimators=10, max_depth=20, random_state=1, n_jobs=-1)\n",
    "rf.fit(X_train, y_train)\n",
    "\n",
    "importances = rf.feature_importances_\n",
    "sorted_importances = sorted(zip(dv.feature_names_, importances), key=lambda x: x[1], reverse=True)\n",
    "print(\"Most important feature:\", sorted_importances[0][0])"
   ]
  },
  {
   "cell_type": "code",
   "execution_count": 17,
   "metadata": {},
   "outputs": [
    {
     "name": "stdout",
     "output_type": "stream",
     "text": [
      "[0]\ttrain-rmse:42.69384\tval-rmse:44.89114\n",
      "[1]\ttrain-rmse:39.83326\tval-rmse:43.07010\n",
      "[2]\ttrain-rmse:37.94542\tval-rmse:42.00332\n",
      "[3]\ttrain-rmse:36.56125\tval-rmse:41.46452\n",
      "[4]\ttrain-rmse:35.44252\tval-rmse:40.88896\n",
      "[5]\ttrain-rmse:34.57756\tval-rmse:40.69096\n",
      "[6]\ttrain-rmse:33.84230\tval-rmse:40.59315\n",
      "[7]\ttrain-rmse:33.25929\tval-rmse:40.47993\n",
      "[8]\ttrain-rmse:32.79415\tval-rmse:40.45326\n",
      "[9]\ttrain-rmse:32.16019\tval-rmse:40.43929\n",
      "[10]\ttrain-rmse:31.63404\tval-rmse:40.48319\n",
      "[11]\ttrain-rmse:31.17673\tval-rmse:40.68201\n",
      "[12]\ttrain-rmse:30.87313\tval-rmse:40.63522\n",
      "[13]\ttrain-rmse:30.30310\tval-rmse:40.70983\n",
      "[14]\ttrain-rmse:30.00098\tval-rmse:40.78133\n",
      "[15]\ttrain-rmse:29.41497\tval-rmse:40.86107\n",
      "[16]\ttrain-rmse:29.25816\tval-rmse:40.96580\n",
      "[17]\ttrain-rmse:28.59378\tval-rmse:41.12190\n",
      "[18]\ttrain-rmse:28.27990\tval-rmse:41.14360\n",
      "[19]\ttrain-rmse:27.94572\tval-rmse:41.22835\n",
      "[0]\ttrain-rmse:45.49999\tval-rmse:47.00533\n",
      "[1]\ttrain-rmse:44.12948\tval-rmse:45.92344\n",
      "[2]\ttrain-rmse:42.94858\tval-rmse:44.98366\n",
      "[3]\ttrain-rmse:41.90896\tval-rmse:44.25755\n",
      "[4]\ttrain-rmse:40.96728\tval-rmse:43.57339\n",
      "[5]\ttrain-rmse:40.17514\tval-rmse:43.11181\n",
      "[6]\ttrain-rmse:39.40436\tval-rmse:42.61054\n",
      "[7]\ttrain-rmse:38.71199\tval-rmse:42.18883\n",
      "[8]\ttrain-rmse:38.08081\tval-rmse:41.86754\n",
      "[9]\ttrain-rmse:37.57559\tval-rmse:41.64338\n",
      "[10]\ttrain-rmse:37.07490\tval-rmse:41.39235\n",
      "[11]\ttrain-rmse:36.58709\tval-rmse:41.14265\n",
      "[12]\ttrain-rmse:36.14574\tval-rmse:40.95201\n",
      "[13]\ttrain-rmse:35.76896\tval-rmse:40.81778\n",
      "[14]\ttrain-rmse:35.40802\tval-rmse:40.75008\n",
      "[15]\ttrain-rmse:35.08521\tval-rmse:40.61341\n",
      "[16]\ttrain-rmse:34.74187\tval-rmse:40.51800\n",
      "[17]\ttrain-rmse:34.43969\tval-rmse:40.41659\n",
      "[18]\ttrain-rmse:34.16132\tval-rmse:40.33546\n",
      "[19]\ttrain-rmse:33.91836\tval-rmse:40.25632\n",
      "[20]\ttrain-rmse:33.67389\tval-rmse:40.25010\n",
      "[21]\ttrain-rmse:33.45853\tval-rmse:40.19826\n",
      "[22]\ttrain-rmse:33.23371\tval-rmse:40.21101\n",
      "[23]\ttrain-rmse:32.98777\tval-rmse:40.14758\n",
      "[24]\ttrain-rmse:32.80930\tval-rmse:40.15079\n",
      "[25]\ttrain-rmse:32.55850\tval-rmse:40.12003\n",
      "[26]\ttrain-rmse:32.33472\tval-rmse:40.08693\n",
      "[27]\ttrain-rmse:32.16808\tval-rmse:40.08567\n",
      "[28]\ttrain-rmse:32.02459\tval-rmse:40.07263\n",
      "[29]\ttrain-rmse:31.88060\tval-rmse:40.14000\n",
      "[30]\ttrain-rmse:31.76039\tval-rmse:40.13806\n",
      "[31]\ttrain-rmse:31.59198\tval-rmse:40.11982\n",
      "[32]\ttrain-rmse:31.47040\tval-rmse:40.13489\n",
      "[33]\ttrain-rmse:31.23756\tval-rmse:40.16486\n",
      "[34]\ttrain-rmse:31.11811\tval-rmse:40.17118\n",
      "[35]\ttrain-rmse:31.01425\tval-rmse:40.16103\n",
      "[36]\ttrain-rmse:30.80211\tval-rmse:40.19895\n",
      "[37]\ttrain-rmse:30.59550\tval-rmse:40.19394\n",
      "RMSE with eta=0.3: [0]\teval-rmse:41.22834791207383631\n",
      "RMSE with eta=0.1: [0]\teval-rmse:40.20018695183900803\n"
     ]
    },
    {
     "name": "stderr",
     "output_type": "stream",
     "text": [
      "c:\\Users\\aorte\\AppData\\Local\\Programs\\Python\\Python311\\Lib\\site-packages\\xgboost\\core.py:723: FutureWarning: Pass `evals` as keyword args.\n",
      "  warnings.warn(msg, FutureWarning)\n"
     ]
    }
   ],
   "source": [
    "#q7\n",
    "# Prepare data for XGBoost\n",
    "dtrain = xgb.DMatrix(X_train, label=y_train)\n",
    "dval = xgb.DMatrix(X_val, label=y_val)\n",
    "watchlist = [(dtrain, 'train'), (dval, 'val')]\n",
    "\n",
    "# Train model with eta=0.3\n",
    "xgb_params = {\n",
    "    'eta': 0.3, \n",
    "    'max_depth': 6,\n",
    "    'min_child_weight': 1,\n",
    "    'objective': 'reg:squarederror',\n",
    "    'seed': 1,\n",
    "    'verbosity': 1,\n",
    "}\n",
    "\n",
    "model_03 = xgb.train(xgb_params, dtrain, 100, watchlist, early_stopping_rounds=10)\n",
    "rmse_03 = model_03.eval(dval)\n",
    "\n",
    "# Train model with eta=0.1\n",
    "xgb_params['eta'] = 0.1\n",
    "model_01 = xgb.train(xgb_params, dtrain, 100, watchlist, early_stopping_rounds=10)\n",
    "rmse_01 = model_01.eval(dval)\n",
    "\n",
    "print(\"RMSE with eta=0.3:\", rmse_03)\n",
    "print(\"RMSE with eta=0.1:\", rmse_01)"
   ]
  }
 ],
 "metadata": {
  "kernelspec": {
   "display_name": "Python 3",
   "language": "python",
   "name": "python3"
  },
  "language_info": {
   "codemirror_mode": {
    "name": "ipython",
    "version": 3
   },
   "file_extension": ".py",
   "mimetype": "text/x-python",
   "name": "python",
   "nbconvert_exporter": "python",
   "pygments_lexer": "ipython3",
   "version": "3.11.3"
  }
 },
 "nbformat": 4,
 "nbformat_minor": 2
}
