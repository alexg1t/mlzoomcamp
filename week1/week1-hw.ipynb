{
 "cells": [
  {
   "cell_type": "code",
   "execution_count": 2,
   "metadata": {},
   "outputs": [],
   "source": [
    "import requests\n",
    "\n",
    "url = \"https://raw.githubusercontent.com/alexeygrigorev/datasets/master/laptops.csv\"\n",
    "response = requests.get(url)\n",
    "\n",
    "# Guardar el archivo localmente\n",
    "with open(\"laptops.csv\", \"wb\") as file:\n",
    "    file.write(response.content)"
   ]
  },
  {
   "cell_type": "code",
   "execution_count": 4,
   "metadata": {},
   "outputs": [
    {
     "data": {
      "text/plain": [
       "'1.5.2'"
      ]
     },
     "execution_count": 4,
     "metadata": {},
     "output_type": "execute_result"
    }
   ],
   "source": [
    "import pandas as pd\n",
    "pd.__version__"
   ]
  },
  {
   "cell_type": "code",
   "execution_count": 7,
   "metadata": {},
   "outputs": [
    {
     "name": "stdout",
     "output_type": "stream",
     "text": [
      "2160\n"
     ]
    }
   ],
   "source": [
    "#Question 2. Records count (1 point)\n",
    "laptops = pd.read_csv('laptops.csv')\n",
    "print(len(laptops))"
   ]
  },
  {
   "cell_type": "code",
   "execution_count": 11,
   "metadata": {},
   "outputs": [
    {
     "data": {
      "text/plain": [
       "27"
      ]
     },
     "execution_count": 11,
     "metadata": {},
     "output_type": "execute_result"
    }
   ],
   "source": [
    "#Question 3. Laptop brands (1 point)\n",
    "len(laptops.groupby(\"Brand\").count())\n"
   ]
  },
  {
   "cell_type": "code",
   "execution_count": 13,
   "metadata": {},
   "outputs": [
    {
     "data": {
      "text/plain": [
       "Laptop             0\n",
       "Status             0\n",
       "Brand              0\n",
       "Model              0\n",
       "CPU                0\n",
       "RAM                0\n",
       "Storage            0\n",
       "Storage type      42\n",
       "GPU             1371\n",
       "Screen             4\n",
       "Touch              0\n",
       "Final Price        0\n",
       "dtype: int64"
      ]
     },
     "execution_count": 13,
     "metadata": {},
     "output_type": "execute_result"
    }
   ],
   "source": [
    "#Question 4. Missing values (1 point)\n",
    "laptops.isnull().sum()"
   ]
  },
  {
   "cell_type": "code",
   "execution_count": 19,
   "metadata": {},
   "outputs": [
    {
     "data": {
      "text/html": [
       "<div>\n",
       "<style scoped>\n",
       "    .dataframe tbody tr th:only-of-type {\n",
       "        vertical-align: middle;\n",
       "    }\n",
       "\n",
       "    .dataframe tbody tr th {\n",
       "        vertical-align: top;\n",
       "    }\n",
       "\n",
       "    .dataframe thead th {\n",
       "        text-align: right;\n",
       "    }\n",
       "</style>\n",
       "<table border=\"1\" class=\"dataframe\">\n",
       "  <thead>\n",
       "    <tr style=\"text-align: right;\">\n",
       "      <th></th>\n",
       "      <th>Laptop</th>\n",
       "      <th>Status</th>\n",
       "      <th>Brand</th>\n",
       "      <th>Model</th>\n",
       "      <th>CPU</th>\n",
       "      <th>RAM</th>\n",
       "      <th>Storage</th>\n",
       "      <th>Storage type</th>\n",
       "      <th>GPU</th>\n",
       "      <th>Screen</th>\n",
       "      <th>Touch</th>\n",
       "      <th>Final Price</th>\n",
       "    </tr>\n",
       "  </thead>\n",
       "  <tbody>\n",
       "    <tr>\n",
       "      <th>1099</th>\n",
       "      <td>MSI Raider GE78HX 13VH-065ES Intel Core i9-139...</td>\n",
       "      <td>New</td>\n",
       "      <td>MSI</td>\n",
       "      <td>Raider</td>\n",
       "      <td>Intel Core i9</td>\n",
       "      <td>32</td>\n",
       "      <td>2000</td>\n",
       "      <td>SSD</td>\n",
       "      <td>RTX 4080</td>\n",
       "      <td>17.0</td>\n",
       "      <td>No</td>\n",
       "      <td>7150.47</td>\n",
       "    </tr>\n",
       "  </tbody>\n",
       "</table>\n",
       "</div>"
      ],
      "text/plain": [
       "                                                 Laptop Status Brand   Model  \\\n",
       "1099  MSI Raider GE78HX 13VH-065ES Intel Core i9-139...    New   MSI  Raider   \n",
       "\n",
       "                CPU  RAM  Storage Storage type       GPU  Screen Touch  \\\n",
       "1099  Intel Core i9   32     2000          SSD  RTX 4080    17.0    No   \n",
       "\n",
       "      Final Price  \n",
       "1099      7150.47  "
      ]
     },
     "execution_count": 19,
     "metadata": {},
     "output_type": "execute_result"
    }
   ],
   "source": [
    "#Question 5. Maximum final price (1 point)\n",
    "laptops[\"Final Price\"].max()\n",
    "laptops[laptops[\"Final Price\"] == laptops[\"Final Price\"].max()]"
   ]
  },
  {
   "cell_type": "code",
   "execution_count": 21,
   "metadata": {},
   "outputs": [
    {
     "name": "stdout",
     "output_type": "stream",
     "text": [
      "Original median of 'Screen': 15.6\n",
      "New median of 'Screen': 15.6\n"
     ]
    }
   ],
   "source": [
    "#Q6. Median value of Screen\n",
    "#Find the median value of Screen column in the dataset.\n",
    "median=laptops[\"Screen\"].median()\n",
    "#Next, calculate the most frequent value of the same Screen column.\n",
    "mode=laptops[\"Screen\"].mode()\n",
    "#Use fillna method to fill the missing values in Screen column with the most frequent value from the previous step.\n",
    "laptops[\"Screen\"].fillna(mode,inplace=True)\n",
    "#Now, calculate the median value of Screen once again.\n",
    "median2=laptops[\"Screen\"].median()\n",
    "\n",
    "print(f\"Original median of 'Screen': {median}\")\n",
    "print(f\"New median of 'Screen': {median2}\")\n"
   ]
  },
  {
   "cell_type": "code",
   "execution_count": 25,
   "metadata": {},
   "outputs": [
    {
     "name": "stdout",
     "output_type": "stream",
     "text": [
      "91.2998806299555\n"
     ]
    }
   ],
   "source": [
    "#Q7. Sum of weights\n",
    "import numpy as np\n",
    "#Select all the \"Innjoo\" laptops from the dataset.\n",
    "innjoo=laptops[laptops[\"Brand\"]==\"Innjoo\"]\n",
    "#Select only columns RAM, Storage, Screen.\n",
    "inj=innjoo[[\"RAM\",\"Storage\",\"Screen\"]]\n",
    "#Get the underlying NumPy array. Let's call it X.\n",
    "X=inj.to_numpy()\n",
    "#Compute matrix-matrix multiplication between the transpose of X and X. To get the transpose, use X.T. Let's call the result XTX.\n",
    "XTX = X.T @ X\n",
    "#Compute the inverse of XTX.\n",
    "XTX_inv = np.linalg.inv(XTX)\n",
    "#Create an array y with values [1100, 1300, 800, 900, 1000, 1100].\n",
    "y = np.array([1100, 1300, 800, 900, 1000, 1100])\n",
    "#Multiply the inverse of XTX with the transpose of X, and then multiply the result by y. Call the result w.\n",
    "w = XTX_inv @ X.T @ y\n",
    "#What's the sum of all the elements of the result?\n",
    "print(sum(w))"
   ]
  }
 ],
 "metadata": {
  "kernelspec": {
   "display_name": "Python 3",
   "language": "python",
   "name": "python3"
  },
  "language_info": {
   "codemirror_mode": {
    "name": "ipython",
    "version": 3
   },
   "file_extension": ".py",
   "mimetype": "text/x-python",
   "name": "python",
   "nbconvert_exporter": "python",
   "pygments_lexer": "ipython3",
   "version": "3.11.3"
  }
 },
 "nbformat": 4,
 "nbformat_minor": 2
}
