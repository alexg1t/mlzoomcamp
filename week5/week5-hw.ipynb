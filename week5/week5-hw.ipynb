{
 "cells": [
  {
   "cell_type": "code",
   "execution_count": 2,
   "metadata": {},
   "outputs": [
    {
     "name": "stdout",
     "output_type": "stream",
     "text": [
      "Pipenv has been installed successfully.\n"
     ]
    }
   ],
   "source": [
    "import subprocess\n",
    "import sys\n",
    "\n",
    "def install_pipenv():\n",
    "    try:\n",
    "        # Run pip install pipenv\n",
    "        subprocess.check_call([sys.executable, \"-m\", \"pip\", \"install\", \"pipenv\"])\n",
    "        print(\"Pipenv has been installed successfully.\")\n",
    "    except subprocess.CalledProcessError:\n",
    "        print(\"There was an error installing Pipenv.\")\n",
    "\n",
    "install_pipenv()"
   ]
  },
  {
   "cell_type": "code",
   "execution_count": 3,
   "metadata": {},
   "outputs": [
    {
     "name": "stdout",
     "output_type": "stream",
     "text": [
      "pipenv, version 2024.2.0\n"
     ]
    }
   ],
   "source": [
    "import subprocess\n",
    "\n",
    "def get_pipenv_version():\n",
    "    try:\n",
    "        # Run pipenv --version and capture the output\n",
    "        result = subprocess.run([\"pipenv\", \"--version\"], capture_output=True, text=True, check=True)\n",
    "        # The version will be in the form of \"pipenv, version X.X.X\"\n",
    "        version = result.stdout.strip()\n",
    "        return version\n",
    "    except subprocess.CalledProcessError:\n",
    "        return \"Pipenv is not installed or there was an error.\"\n",
    "\n",
    "print(get_pipenv_version())"
   ]
  },
  {
   "cell_type": "code",
   "execution_count": 6,
   "metadata": {},
   "outputs": [
    {
     "name": "stderr",
     "output_type": "stream",
     "text": [
      "c:\\Users\\aorte\\AppData\\Local\\Programs\\Python\\Python311\\Lib\\site-packages\\sklearn\\base.py:376: InconsistentVersionWarning: Trying to unpickle estimator DictVectorizer from version 1.5.2 when using version 1.5.0. This might lead to breaking code or invalid results. Use at your own risk. For more info please refer to:\n",
      "https://scikit-learn.org/stable/model_persistence.html#security-maintainability-limitations\n",
      "  warnings.warn(\n",
      "c:\\Users\\aorte\\AppData\\Local\\Programs\\Python\\Python311\\Lib\\site-packages\\sklearn\\base.py:376: InconsistentVersionWarning: Trying to unpickle estimator LogisticRegression from version 1.5.2 when using version 1.5.0. This might lead to breaking code or invalid results. Use at your own risk. For more info please refer to:\n",
      "https://scikit-learn.org/stable/model_persistence.html#security-maintainability-limitations\n",
      "  warnings.warn(\n"
     ]
    }
   ],
   "source": [
    "import pickle\n",
    "\n",
    "\n",
    "def load(filename: str):\n",
    "    with open(filename, \"rb\") as f_in:\n",
    "        return pickle.load(f_in)\n",
    "\n",
    "\n",
    "dv = load(\"./dv.bin\")\n",
    "model = load(\"./model1.bin\")"
   ]
  },
  {
   "cell_type": "code",
   "execution_count": 7,
   "metadata": {},
   "outputs": [
    {
     "name": "stdout",
     "output_type": "stream",
     "text": [
      "Probability client will get subscription: 0.759\n"
     ]
    }
   ],
   "source": [
    "client = {\"job\": \"management\", \"duration\": 400, \"poutcome\": \"success\"}\n",
    "\n",
    "X = dv.transform([client])\n",
    "y_pred = model.predict_proba(X)[0, 1]\n",
    "\n",
    "print(f\"Probability client will get subscription: {y_pred:.3f}\")"
   ]
  }
 ],
 "metadata": {
  "kernelspec": {
   "display_name": "Python 3",
   "language": "python",
   "name": "python3"
  },
  "language_info": {
   "codemirror_mode": {
    "name": "ipython",
    "version": 3
   },
   "file_extension": ".py",
   "mimetype": "text/x-python",
   "name": "python",
   "nbconvert_exporter": "python",
   "pygments_lexer": "ipython3",
   "version": "3.11.3"
  }
 },
 "nbformat": 4,
 "nbformat_minor": 2
}
